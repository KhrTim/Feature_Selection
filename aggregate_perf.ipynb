{
 "cells": [
  {
   "cell_type": "code",
   "execution_count": 4,
   "id": "158863a2",
   "metadata": {},
   "outputs": [],
   "source": [
    "import os\n",
    "import json\n",
    "import pandas as pd"
   ]
  },
  {
   "cell_type": "code",
   "execution_count": 53,
   "id": "cca77324",
   "metadata": {},
   "outputs": [],
   "source": [
    "alg_meta = {\n",
    "\"JMVFG\" : dict(publisher=\"IEEE Transactions on Emerging Topics in Computational Intelligence\", year=2023),\n",
    "\"MCFS\" : dict(publisher=\"ACM SIGKDD Conference on Knowledge Discovery and Data Mining\", year=2010),\n",
    "\"UFS2\" : dict(publisher=\"IEEE Transactions on Big Data\", year=2022),\n",
    "\"UDFS\" : dict(publisher=\"IJCAI'11\", year=2011),\n",
    "\"CNAFS\" : dict(publisher=\"IEEE Transactions on Cybernetics\", year=2020),\n",
    "\"SOCFS\" : dict(publisher=\"CVPR\", year=2015),\n",
    "\"EGCFS\" : dict(publisher=\"IEEE transactions on neural networks and learning systems\", year=2020),\n",
    "\"SLNMF\" : dict(publisher=\"Expert Systems with Applications\", year=2023),\n",
    "\"VCSDFS\" : dict(publisher=\"Neural Networks\", year=2023),\n",
    "\"FSDK\" : dict(publisher=\"IEEE Transactions on Neural Networks and Learning Systems\", year=2023),\n",
    "\"RAFG\" : dict(publisher=\"Applied Intelligence\", year=2024),\n",
    "\"RSOBC\" : dict(publisher=\"Expert Systems with Applications\", year=2025),\n",
    "\"RUSLP\" : dict(publisher=\"Information Sciences\", year=2022),\n",
    "\"NDFS\" : dict(publisher=\"AAAI\", year=2012),\n",
    "\"U2FS\" : dict(publisher=\"PeerJ Comput Sci\", year=2021),\n",
    "\"MGAGR\" : dict(publisher=\"IEEE Transactions on Knowledge and Data Engineering\", year=2021),\n",
    "\"SSDS\" : dict(publisher=\"IEEE Transactions on Knowledge and Data Engineering\", year=2024),\n",
    "\"FMIUFS\" : dict(publisher=\"IEEE Transactions on Fuzzy Systems\", year=2021),\n",
    "\"GRSSLSF\" : dict(publisher=\"Transactions on Machine Learning Research\", year=2024),}"
   ]
  },
  {
   "cell_type": "code",
   "execution_count": 54,
   "id": "8bf68817",
   "metadata": {},
   "outputs": [],
   "source": [
    "\n",
    "# Root directory where your dataset folders are located\n",
    "root_dir = 'perf_results'\n"
   ]
  },
  {
   "cell_type": "code",
   "execution_count": 58,
   "id": "798436a7",
   "metadata": {},
   "outputs": [],
   "source": [
    "\n",
    "# List to collect all rows\n",
    "data = []\n",
    "\n",
    "# Traverse through the directory\n",
    "for dataset_name in os.listdir(root_dir):\n",
    "    dataset_path = os.path.join(root_dir, dataset_name)\n",
    "    if os.path.isdir(dataset_path):\n",
    "        for algorithm_name in os.listdir(dataset_path):\n",
    "            algorithm_path = os.path.join(dataset_path, algorithm_name)\n",
    "            if os.path.isdir(algorithm_path):\n",
    "                for file_name in os.listdir(algorithm_path):\n",
    "                    if file_name.endswith('.json'):\n",
    "                        file_path = os.path.join(algorithm_path, file_name)\n",
    "                        with open(file_path, 'r') as f:\n",
    "                            json_data = json.load(f)\n",
    "                            row = {\n",
    "                                'algorithm': algorithm_name,\n",
    "                                'dataset': dataset_name,\n",
    "                                'time': json_data.get('time'),\n",
    "                                'uniqueness': json_data.get('uniqueness'),\n",
    "                                'ent_ratio': json_data.get('ent_ratio'),\n",
    "                                'publisher': alg_meta[algorithm_name]['publisher'] if algorithm_name in alg_meta else \"\",\n",
    "                                'year': alg_meta[algorithm_name]['year'] if algorithm_name in alg_meta else -1\n",
    "                            }\n",
    "                            data.append(row)\n"
   ]
  },
  {
   "cell_type": "code",
   "execution_count": 65,
   "id": "80e7c93b",
   "metadata": {},
   "outputs": [],
   "source": [
    "\n",
    "# Create DataFrame\n",
    "df = pd.DataFrame(data)\n"
   ]
  },
  {
   "cell_type": "code",
   "execution_count": 71,
   "id": "9da54f6e",
   "metadata": {},
   "outputs": [],
   "source": [
    "df = df.sort_values(by=['algorithm'])"
   ]
  },
  {
   "cell_type": "code",
   "execution_count": 72,
   "id": "f73404d6",
   "metadata": {},
   "outputs": [],
   "source": [
    "dataset_counts = df.groupby('algorithm')['dataset'].nunique()\n",
    "\n",
    "# Step 2: Filter algorithms that have both datasets\n",
    "algorithms_with_both = dataset_counts[dataset_counts == 2].index\n",
    "\n",
    "# Step 3: Keep only rows with those algorithms\n",
    "filtered_df = df[df['algorithm'].isin(algorithms_with_both)]\n"
   ]
  },
  {
   "cell_type": "code",
   "execution_count": 81,
   "id": "3d14ed55",
   "metadata": {},
   "outputs": [],
   "source": [
    "filtered_df.to_csv(\"filtered_df.csv\")"
   ]
  },
  {
   "cell_type": "code",
   "execution_count": null,
   "id": "3489a9bf",
   "metadata": {},
   "outputs": [],
   "source": [
    "# latex_code = filtered_df.to_latex(index=False, float_format=\"%.4f\", escape=False, \n",
    "#                          caption=\"Your caption here\", label=\"tab:your_label\", \n",
    "#                          column_format=\"lccccc\",  # adjust for column alignment\n",
    "#                          bold_rows=False)\n",
    "# with open(\"table_output.tex\", \"w\", encoding=\"utf-8\") as f:\n",
    "#     f.write(latex_code)"
   ]
  },
  {
   "cell_type": "code",
   "execution_count": 86,
   "id": "23e8cbcb",
   "metadata": {},
   "outputs": [],
   "source": [
    "algs_warp = df[df['dataset'] == 'warpPIE10P.mat'].sort_values(by='time')\n",
    "algs_mush = df[df['dataset'] == 'mushrooms.mat'].sort_values(by='time')"
   ]
  },
  {
   "cell_type": "code",
   "execution_count": 88,
   "id": "f99eb0aa",
   "metadata": {},
   "outputs": [],
   "source": [
    "algs_mush.to_csv(\"mushroom.csv\")"
   ]
  },
  {
   "cell_type": "code",
   "execution_count": 89,
   "id": "e53f2cb0",
   "metadata": {},
   "outputs": [],
   "source": [
    "algs_warp.to_csv(\"warp.csv\")"
   ]
  }
 ],
 "metadata": {
  "kernelspec": {
   "display_name": "DACON",
   "language": "python",
   "name": "python3"
  },
  "language_info": {
   "codemirror_mode": {
    "name": "ipython",
    "version": 3
   },
   "file_extension": ".py",
   "mimetype": "text/x-python",
   "name": "python",
   "nbconvert_exporter": "python",
   "pygments_lexer": "ipython3",
   "version": "3.12.9"
  }
 },
 "nbformat": 4,
 "nbformat_minor": 5
}
